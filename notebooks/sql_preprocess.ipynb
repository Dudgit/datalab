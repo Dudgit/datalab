{
 "cells": [
  {
   "cell_type": "code",
   "execution_count": 21,
   "metadata": {},
   "outputs": [],
   "source": [
    "import sqlite3\n",
    "import pandas as pd\n",
    "import matplotlib.pyplot as plt\n",
    "from Dude import createSQL\n",
    "import numpy as np"
   ]
  },
  {
   "cell_type": "code",
   "execution_count": 3,
   "metadata": {},
   "outputs": [],
   "source": [
    "conn = sqlite3.connect('../data/homework_data.db')\n",
    "c = conn.cursor()\n"
   ]
  },
  {
   "cell_type": "code",
   "execution_count": 4,
   "metadata": {},
   "outputs": [],
   "source": [
    "table = pd.read_sql_query(\n",
    "    \"\"\"\n",
    "    SELECT route_id\n",
    "            stop_sequence,\n",
    "            stop_id,\n",
    "            direction_id\n",
    "            From trips\n",
    "    Join stop_times \n",
    "    on (trips.trip_id = stop_times.trip_id)\n",
    "    \"\"\"\n",
    "    ,\n",
    "    conn\n",
    ")"
   ]
  },
  {
   "cell_type": "code",
   "execution_count": 5,
   "metadata": {},
   "outputs": [],
   "source": [
    "createSQL(\"t1\",table, conn)"
   ]
  },
  {
   "cell_type": "code",
   "execution_count": 6,
   "metadata": {},
   "outputs": [],
   "source": [
    "t2 = pd.read_sql_query(\n",
    "    \"\"\"\n",
    "    SELECT \n",
    "    stop_id, COUNT(stop_id) as stop_count\n",
    "    FROM trips\n",
    "    Join stop_times on stop_times.trip_id = trips.trip_id\n",
    "    group by (stop_id)\n",
    "    ;\n",
    "\n",
    "\n",
    "    \"\"\",conn)"
   ]
  },
  {
   "cell_type": "code",
   "execution_count": 7,
   "metadata": {},
   "outputs": [],
   "source": [
    "createSQL(\"mynodes\",t2, conn)"
   ]
  },
  {
   "cell_type": "code",
   "execution_count": 8,
   "metadata": {},
   "outputs": [],
   "source": [
    "gdata = pd.read_sql_query(\n",
    "    \"\"\"\n",
    "    SELECT stops.stop_id, stop_name, stop_lat, stop_lon, mynodes.stop_count\n",
    "    FROM stops\n",
    "    Join mynodes\n",
    "    on stops.stop_id = mynodes.stop_id\n",
    "    ;\n",
    "    \"\"\"\n",
    "    ,conn)\n",
    "createSQL(\"gdata\",gdata, conn)"
   ]
  },
  {
   "cell_type": "code",
   "execution_count": 20,
   "metadata": {},
   "outputs": [],
   "source": [
    "frqeq = pd.read_sql_query(\n",
    "    \"\"\"\n",
    "    SELECT stop_count, COUNT(stop_count) AS Frequency\n",
    "\n",
    "  FROM gdata\n",
    "\n",
    "  GROUP BY stop_count\n",
    "\n",
    "  ORDER BY\n",
    "\n",
    "  COUNT(stop_count) DESC\n",
    "    ;\n",
    "    \"\"\"\n",
    "    ,conn)"
   ]
  },
  {
   "cell_type": "code",
   "execution_count": 22,
   "metadata": {},
   "outputs": [
    {
     "name": "stdout",
     "output_type": "stream",
     "text": [
      "\n",
      "\n",
      "The average degree of distribution is 3.9823\n",
      "\n",
      "\n"
     ]
    },
    {
     "data": {
      "image/png": "[encoded data removed]",
      "text/plain": [
       "<Figure size 576x576 with 1 Axes>"
      ]
     },
     "metadata": {},
     "output_type": "display_data"
    }
   ],
   "source": [
    "distr = frqeq.Frequency\n",
    "plt.hist(distr, bins = 30, density=True)\n",
    "plt.yscale(\"log\")\n",
    "plt.title(\"Degree distribution of Budapest public transport\")\n",
    "plt.ylabel(r\"$\\rho(x)$\")\n",
    "plt.xlabel(\"Stops\")\n",
    "print(f\"\"\"\n",
    "\n",
    "The average degree of distribution is {np.mean(distr):.4f}\n",
    "\n",
    "\"\"\")"
   ]
  },
  {
   "cell_type": "code",
   "execution_count": null,
   "metadata": {},
   "outputs": [],
   "source": []
  }
 ],
 "metadata": {
  "interpreter": {
   "hash": "928b61f5e44213fcfe6dada5ff80a864126784261d6cf6ac4f3c3dedebb569eb"
  },
  "kernelspec": {
   "display_name": "Python 3.9.7 64-bit ('base': conda)",
   "language": "python",
   "name": "python3"
  },
  "language_info": {
   "codemirror_mode": {
    "name": "ipython",
    "version": 3
   },
   "file_extension": ".py",
   "mimetype": "text/x-python",
   "name": "python",
   "nbconvert_exporter": "python",
   "pygments_lexer": "ipython3",
   "version": "3.9.7"
  },
  "orig_nbformat": 4
 },
 "nbformat": 4,
 "nbformat_minor": 2
}
