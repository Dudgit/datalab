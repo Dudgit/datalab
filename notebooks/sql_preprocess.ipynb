{
 "cells": [
  {
   "cell_type": "code",
   "execution_count": 1,
   "metadata": {},
   "outputs": [],
   "source": [
    "import sqlite3\n",
    "import pandas as pd\n",
    "from Dude import createSQL"
   ]
  },
  {
   "cell_type": "code",
   "execution_count": 2,
   "metadata": {},
   "outputs": [],
   "source": [
    "conn = sqlite3.connect('../data/homework_data.db')\n",
    "c = conn.cursor()\n"
   ]
  },
  {
   "cell_type": "code",
   "execution_count": 32,
   "metadata": {},
   "outputs": [
    {
     "data": {
      "text/html": [
       "<div>\n",
       "<style scoped>\n",
       "    .dataframe tbody tr th:only-of-type {\n",
       "        vertical-align: middle;\n",
       "    }\n",
       "\n",
       "    .dataframe tbody tr th {\n",
       "        vertical-align: top;\n",
       "    }\n",
       "\n",
       "    .dataframe thead th {\n",
       "        text-align: right;\n",
       "    }\n",
       "</style>\n",
       "<table border=\"1\" class=\"dataframe\">\n",
       "  <thead>\n",
       "    <tr style=\"text-align: right;\">\n",
       "      <th></th>\n",
       "      <th>stop_sequence</th>\n",
       "      <th>stop_id</th>\n",
       "      <th>direction_id</th>\n",
       "    </tr>\n",
       "  </thead>\n",
       "  <tbody>\n",
       "    <tr>\n",
       "      <th>0</th>\n",
       "      <td>0078</td>\n",
       "      <td>008569</td>\n",
       "      <td>0</td>\n",
       "    </tr>\n",
       "    <tr>\n",
       "      <th>1</th>\n",
       "      <td>0078</td>\n",
       "      <td>043341</td>\n",
       "      <td>0</td>\n",
       "    </tr>\n",
       "    <tr>\n",
       "      <th>2</th>\n",
       "      <td>0078</td>\n",
       "      <td>F02984</td>\n",
       "      <td>0</td>\n",
       "    </tr>\n",
       "    <tr>\n",
       "      <th>3</th>\n",
       "      <td>0078</td>\n",
       "      <td>F02985</td>\n",
       "      <td>0</td>\n",
       "    </tr>\n",
       "    <tr>\n",
       "      <th>4</th>\n",
       "      <td>0078</td>\n",
       "      <td>F03148</td>\n",
       "      <td>0</td>\n",
       "    </tr>\n",
       "    <tr>\n",
       "      <th>...</th>\n",
       "      <td>...</td>\n",
       "      <td>...</td>\n",
       "      <td>...</td>\n",
       "    </tr>\n",
       "    <tr>\n",
       "      <th>4444655</th>\n",
       "      <td>H5</td>\n",
       "      <td>F00488</td>\n",
       "      <td>1</td>\n",
       "    </tr>\n",
       "    <tr>\n",
       "      <th>4444656</th>\n",
       "      <td>H5</td>\n",
       "      <td>F00511</td>\n",
       "      <td>1</td>\n",
       "    </tr>\n",
       "    <tr>\n",
       "      <th>4444657</th>\n",
       "      <td>H5</td>\n",
       "      <td>F00579</td>\n",
       "      <td>1</td>\n",
       "    </tr>\n",
       "    <tr>\n",
       "      <th>4444658</th>\n",
       "      <td>H5</td>\n",
       "      <td>F00625</td>\n",
       "      <td>1</td>\n",
       "    </tr>\n",
       "    <tr>\n",
       "      <th>4444659</th>\n",
       "      <td>H5</td>\n",
       "      <td>F00633</td>\n",
       "      <td>1</td>\n",
       "    </tr>\n",
       "  </tbody>\n",
       "</table>\n",
       "<p>4444660 rows × 3 columns</p>\n",
       "</div>"
      ],
      "text/plain": [
       "        stop_sequence stop_id  direction_id\n",
       "0                0078  008569             0\n",
       "1                0078  043341             0\n",
       "2                0078  F02984             0\n",
       "3                0078  F02985             0\n",
       "4                0078  F03148             0\n",
       "...               ...     ...           ...\n",
       "4444655            H5  F00488             1\n",
       "4444656            H5  F00511             1\n",
       "4444657            H5  F00579             1\n",
       "4444658            H5  F00625             1\n",
       "4444659            H5  F00633             1\n",
       "\n",
       "[4444660 rows x 3 columns]"
      ]
     },
     "execution_count": 32,
     "metadata": {},
     "output_type": "execute_result"
    }
   ],
   "source": [
    "table = pd.read_sql_query(\n",
    "    \"\"\"\n",
    "    SELECT route_id\n",
    "            stop_sequence,\n",
    "            stop_id,\n",
    "            direction_id\n",
    "            From trips\n",
    "    Join stop_times \n",
    "    on (trips.trip_id = stop_times.trip_id)\n",
    "    \"\"\"\n",
    "    ,\n",
    "    conn\n",
    ")\n",
    "table"
   ]
  },
  {
   "cell_type": "code",
   "execution_count": 22,
   "metadata": {},
   "outputs": [],
   "source": [
    "createSQL(\"t1\",table, conn)"
   ]
  },
  {
   "cell_type": "code",
   "execution_count": 3,
   "metadata": {},
   "outputs": [],
   "source": [
    "t2 = pd.read_sql_query(\n",
    "    \"\"\"\n",
    "    SELECT \n",
    "    stop_id, COUNT(stop_id) as stop_count\n",
    "    FROM trips\n",
    "    Join stop_times on stop_times.trip_id = trips.trip_id\n",
    "    group by (stop_id)\n",
    "    ;\n",
    "\n",
    "\n",
    "    \"\"\",conn)"
   ]
  },
  {
   "cell_type": "code",
   "execution_count": 6,
   "metadata": {},
   "outputs": [],
   "source": [
    "createSQL(\"mynodes\",t2, conn)"
   ]
  },
  {
   "cell_type": "code",
   "execution_count": 36,
   "metadata": {},
   "outputs": [],
   "source": [
    "gdata = pd.read_sql_query(\n",
    "    \"\"\"\n",
    "    SELECT stops.stop_id, stop_name, stop_lat, stop_lon, mynodes.stop_count\n",
    "    FROM stops\n",
    "    Join mynodes\n",
    "    on stops.stop_id = mynodes.stop_id\n",
    "    ;\n",
    "    \"\"\"\n",
    "    ,conn)\n",
    "createSQL(\"gdata\",gdata, conn)"
   ]
  }
 ],
 "metadata": {
  "interpreter": {
   "hash": "928b61f5e44213fcfe6dada5ff80a864126784261d6cf6ac4f3c3dedebb569eb"
  },
  "kernelspec": {
   "display_name": "Python 3.9.7 64-bit ('base': conda)",
   "language": "python",
   "name": "python3"
  },
  "language_info": {
   "codemirror_mode": {
    "name": "ipython",
    "version": 3
   },
   "file_extension": ".py",
   "mimetype": "text/x-python",
   "name": "python",
   "nbconvert_exporter": "python",
   "pygments_lexer": "ipython3",
   "version": "3.9.7"
  },
  "orig_nbformat": 4
 },
 "nbformat": 4,
 "nbformat_minor": 2
}
